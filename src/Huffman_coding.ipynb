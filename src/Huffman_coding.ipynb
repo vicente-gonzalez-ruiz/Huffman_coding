{
 "cells": [
  {
   "cell_type": "markdown",
   "id": "44ac35f0",
   "metadata": {},
   "source": [
    "# Huffman Coding"
   ]
  },
  {
   "cell_type": "code",
   "execution_count": null,
   "id": "c3b21e70-bd60-4fdb-bb76-93294f5f1d3f",
   "metadata": {},
   "outputs": [],
   "source": [
    "from huffman_coding import huffman_coding"
   ]
  },
  {
   "cell_type": "code",
   "execution_count": null,
   "id": "fb877580-3f3f-4cc8-b707-65eed530d003",
   "metadata": {},
   "outputs": [],
   "source": [
    "import random\n",
    "import io\n",
    "import gzip\n",
    "import pickle\n",
    "import os\n",
    "#import numpy as np\n",
    "from bitarray import bitarray"
   ]
  },
  {
   "cell_type": "code",
   "execution_count": null,
   "id": "19ee84d8-aec1-4de4-907a-a0777f60b2e7",
   "metadata": {},
   "outputs": [],
   "source": [
    "def write_huffman_tree(root, filename):\n",
    "    with open(filename, 'wb') as f:\n",
    "        pickle.dump(root, f)\n",
    "\n",
    "def read_huffman_tree(filename):\n",
    "    with open(filename, 'rb') as f:\n",
    "        return pickle.load(f)\n",
    "\n",
    "def write_encoded_data(encoded_data, filename):\n",
    "    with open(filename, 'wb') as f:\n",
    "        encoded_data.tofile(f)\n",
    "\n",
    "def read_encoded_data(filename):\n",
    "    encoded_data = bitarray()\n",
    "    with open(filename, 'rb') as f:\n",
    "        encoded_data.fromfile(f)\n",
    "    return encoded_data"
   ]
  },
  {
   "cell_type": "code",
   "execution_count": null,
   "id": "5e8aa904-545c-4ee9-a9bc-dd426c56184f",
   "metadata": {},
   "outputs": [],
   "source": [
    "data = \"aabbbccd\"\n",
    "\n",
    "root = huffman_coding.build_huffman_tree(data)\n",
    "print(\"\\nHuffman Tree:\")\n",
    "huffman_coding.print_huffman_tree(root)\n",
    "codes = huffman_coding.generate_huffman_codes(root)\n",
    "print(\"\\nHuffman Codes:\", codes)\n",
    "encoded_data = huffman_coding.encode_data(data, codes)\n",
    "\n",
    "# Write to disk\n",
    "write_huffman_tree(root, 'huffman_tree.pkl')\n",
    "write_encoded_data(encoded_data, 'encoded_data.bin')\n",
    "\n",
    "# Read from disk\n",
    "loaded_root = read_huffman_tree('huffman_tree.pkl')\n",
    "loaded_encoded_data = read_encoded_data('encoded_data.bin')\n",
    "\n",
    "# Decode\n",
    "decoded_data = huffman_coding.decode_data(loaded_encoded_data, loaded_root)\n",
    "\n",
    "print(\"Original Data:\", data)\n",
    "print(\"Decoded Data:\", decoded_data)"
   ]
  }
 ],
 "metadata": {
  "kernelspec": {
   "display_name": "Python 3 (ipykernel)",
   "language": "python",
   "name": "python3"
  },
  "language_info": {
   "codemirror_mode": {
    "name": "ipython",
    "version": 3
   },
   "file_extension": ".py",
   "mimetype": "text/x-python",
   "name": "python",
   "nbconvert_exporter": "python",
   "pygments_lexer": "ipython3",
   "version": "3.12.2"
  }
 },
 "nbformat": 4,
 "nbformat_minor": 5
}
