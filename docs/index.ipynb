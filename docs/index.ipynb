{
 "cells": [
  {
   "cell_type": "markdown",
   "metadata": {
    "slideshow": {
     "slide_type": "slide"
    }
   },
   "source": [
    "# [Huffman coding](https://en.wikipedia.org/wiki/Huffman_coding) [[Huffman, 1952]](https://scholar.google.es/scholar?hl=es&as_sdt=0%2C5&q=huffman+method+codes+1952&btnG=)\n",
    " \n",
    "* (Absolute) Optimal performance (in average, better than Shannon-Fano) when a integer\n",
    "  number of bits is assigned to each symbol.\n",
    "* Huffman-based VLC codecs build a binary tree where the symbols are stored\n",
    "  in the leafs and the distance of each symbol to the root of the tree\n",
    "  is <br>$$\\lceil\\log_2(p(s))\\rceil$$.<br>\n",
    "* After label each binary branch in the tree, the Huffman\n",
    "  code-word for the symbol $s$ is the sequence of bits (labels) that\n",
    "  we must use to travel from the root to the $s$-leaf."
   ]
  },
  {
   "cell_type": "markdown",
   "metadata": {
    "slideshow": {
     "slide_type": "subslide"
    }
   },
   "source": [
    "### Building Huffman trees\n",
    "\n",
    "1. Create a list of nodes. Each node stores a symbol and its\n",
    "   probability.\n",
    "2. While the number of nodes in the list > 1:\n",
    "    1. Extract from the list the 2 nodes with the lowest probability.\n",
    "    2. Insert in the list a new node (that is the root of a binary\n",
    "       tree) whose probability is the sum of the probability of its\n",
    "       leafs."
   ]
  },
  {
   "cell_type": "markdown",
   "metadata": {
    "slideshow": {
     "slide_type": "subslide"
    }
   },
   "source": [
    "### Example\n",
    "\n",
    "<img src=\"graphics/huffman_ejemplo.svg\" width=\"600\">"
   ]
  },
  {
   "cell_type": "markdown",
   "metadata": {
    "slideshow": {
     "slide_type": "subslide"
    }
   },
   "source": [
    "### Encoder\n",
    "1.  n := |C|;\n",
    "2.  Q := C;\n",
    "3.  __for__ i := 1 __to__ n-1 __do__\n",
    "    4. allocate a new node z\n",
    "    5. z.left := x := Extract-min(Q);\n",
    "    6. z.right := y := Extract-min(Q);\n",
    "    7. z.freq := x.freq + y.freq;\n",
    "    8. Insert(Q,z);\n",
    "9.  __end for__\n",
    "10. __return__ Extract-min(Q); {return the root of the tree}"
   ]
  },
  {
   "cell_type": "markdown",
   "metadata": {
    "slideshow": {
     "slide_type": "subslide"
    }
   },
   "source": [
    "### Example\n",
    "String: BACADAEAFABBAAAGAH\n",
    "\n",
    "| |A|B|C|D|E|F|G|H|\n",
    "|  ---------------|\n",
    "|Frequency (in thousands)|50|20|5|5|5|5|5|5|\n",
    "|Fixed-length codeword|000|001|010|011|100|101|110|111|\n",
    "|Variable-length codeword|0|100|1010|1011|1100|1101|1110|1111|\n",
    "<img src=\"graphics/huffman_encoder.png\">\n",
    "OUTPUT: 10001010010110110001101010010000111001111"
   ]
  },
  {
   "cell_type": "markdown",
   "metadata": {
    "slideshow": {
     "slide_type": "subslide"
    }
   },
   "source": [
    "### Decoder\n",
    "1. prob_table := freq //Array with the frequency of occurrence of each char\n",
    "2. sec := str // Output that we want to rebuild\n",
    "3. tree := array //A key-value associating array, with each item's key the node in that subtree and value its current sum probability, according to prob_table\n",
    "4. code_table := table //An array with length of the how many characters in prob_table, wich maps each code to its corresponding decoded character with each code initialised as empty strings.\n",
    "5. __while__ more than one node in tree __do__ sub_nodes := key of node with smallest probability in *tree sec_sub_nodes* = key of := key of node with second smallest propability in *tree*\n",
    "    6.  __for__ node in sub_nodes __do__\n",
    "        7. code_table[node].key := \"1\" + code_table[node].key;\n",
    "    8.  __end for__\n",
    "    9.  __for__ node in sec_sub_nodes __do__\n",
    "        10. code_table[node].key = \"0\" + code_table[node].key\n",
    "    11. __end for__\n",
    "    12. tree[sub_nodes + sec_sub_nodes] := tree[sub_nodes] + tree[sec_sub_nodes]\n",
    "    13. delete tree[sub_nodes]\n",
    "    14. delete tree[sec_sub_nodes]\n",
    "15. __end while__\n",
    "16. temp := \"\"\n",
    "17. result := \"\"\n",
    "18. __for__ code in seq __do__\n",
    "    19. temp := temp + code\n",
    "    20. __if__ temp in code_table __then__\n",
    "        21. result := result + code_table[temp]\n",
    "        22. temp := \"\"\n",
    "    23. __end if__\n",
    "24. __end for__\n",
    "25. return result"
   ]
  },
  {
   "cell_type": "markdown",
   "metadata": {
    "slideshow": {
     "slide_type": "subslide"
    }
   },
   "source": [
    "### Example\n",
    "<img src=\"graphics/huffman_decoder.jpg\">\n",
    "INPUT: **BACADAEAFABBAAAGAH**"
   ]
  },
  {
   "cell_type": "markdown",
   "metadata": {
    "slideshow": {
     "slide_type": "subslide"
    }
   },
   "source": [
    "### Limits\n",
    "\n",
    "* Any Huffman code satisfies that\n",
    "  <br>\n",
    "  \\begin{equation}\n",
    "    l\\big(c(s)\\big) = \\lceil I(s)\\rceil, \\tag{Eq:Huffman}\n",
    "  \\end{equation}\n",
    "  <br>\n",
    "  where $l\\big(c(s)\\big)$ is the length of the code-word assigned to\n",
    "  the symbol $s$. This implies that, with each encoded symbol, up to 1 bit of\n",
    "  redundant data can be introduced (think about a very frequent -- high probability -- symbol).\n",
    "  \n",
    "* This is a problem that grows when the size of the alphabet is\n",
    "  small. In the extreme case, for binary source alphabets, the Huffman\n",
    "  coding does not change the length of the original representation."
   ]
  }
 ],
 "metadata": {
  "celltoolbar": "Slideshow",
  "kernelspec": {
   "display_name": "Python 3 (ipykernel)",
   "language": "python",
   "name": "python3"
  },
  "language_info": {
   "codemirror_mode": {
    "name": "ipython",
    "version": 3
   },
   "file_extension": ".py",
   "mimetype": "text/x-python",
   "name": "python",
   "nbconvert_exporter": "python",
   "pygments_lexer": "ipython3",
   "version": "3.10.12"
  }
 },
 "nbformat": 4,
 "nbformat_minor": 1
}
